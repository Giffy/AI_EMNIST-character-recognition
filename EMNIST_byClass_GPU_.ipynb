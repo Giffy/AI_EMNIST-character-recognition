{
  "nbformat": 4,
  "nbformat_minor": 0,
  "metadata": {
    "colab": {
      "name": "EMNIST byClass GPU .ipynb",
      "version": "0.3.2",
      "provenance": [],
      "collapsed_sections": [
        "LeHMNj5jKwHA",
        "BRWrGVIzKwRs",
        "BxKt62uvKwZn",
        "yH3JcMrJKwfg",
        "V4zWlLsTKwg5",
        "z0OUePyBKwif",
        "I3LE2P_dKwi6"
      ],
      "include_colab_link": true
    },
    "kernelspec": {
      "name": "python3",
      "display_name": "Python 3"
    },
    "accelerator": "GPU"
  },
  "cells": [
    {
      "cell_type": "markdown",
      "metadata": {
        "id": "view-in-github",
        "colab_type": "text"
      },
      "source": [
        "<a href=\"https://colab.research.google.com/github/Giffy/EMNIST-character-recognition/blob/master/EMNIST_byClass_GPU_.ipynb\" target=\"_parent\"><img src=\"https://colab.research.google.com/assets/colab-badge.svg\" alt=\"Open In Colab\"/></a>"
      ]
    },
    {
      "metadata": {
        "id": "jONSN35XKwCt",
        "colab_type": "text"
      },
      "cell_type": "markdown",
      "source": [
        "# EMNIST character classification by class\n",
        "\n",
        "This is the first approach to EMNIST character classification, based in reference code:\n",
        "\n",
        "https://github.com/j05t/emnist \n",
        "\n",
        "https://nextjournal.com/gkoehler/digit-recognition-with-keras\n"
      ]
    },
    {
      "metadata": {
        "id": "fo0bCU7EDQHL",
        "colab_type": "text"
      },
      "cell_type": "markdown",
      "source": [
        "#Download dataset and inflate"
      ]
    },
    {
      "metadata": {
        "id": "JQDyEQra28mx",
        "colab_type": "text"
      },
      "cell_type": "markdown",
      "source": [
        "## Download and inflate dataset"
      ]
    },
    {
      "metadata": {
        "id": "7HpNzvrfZ2Xi",
        "colab_type": "code",
        "colab": {
          "base_uri": "https://localhost:8080/",
          "height": 348
        },
        "outputId": "78d8f69b-c2a2-446d-cc23-9e47d5d0a988"
      },
      "cell_type": "code",
      "source": [
        "# Check if already downloaded\n",
        "check = !if [ -d 'dataset/' ]; then echo \"1\" ; else echo \"0\"; fi\n",
        "if (check[0] is '0' ):\n",
        "  !mkdir dataset\n",
        "  !wget 'https://www.itl.nist.gov/iaui/vip/cs_links/EMNIST/matlab.zip'\n",
        "  !unzip matlab.zip -d /content/dataset"
      ],
      "execution_count": 1,
      "outputs": [
        {
          "output_type": "stream",
          "text": [
            "--2018-11-29 17:13:01--  https://www.itl.nist.gov/iaui/vip/cs_links/EMNIST/matlab.zip\n",
            "Resolving www.itl.nist.gov (www.itl.nist.gov)... 129.6.13.51, 2610:20:6b01:4::36\n",
            "Connecting to www.itl.nist.gov (www.itl.nist.gov)|129.6.13.51|:443... connected.\n",
            "HTTP request sent, awaiting response... 200 OK\n",
            "Length: 743900280 (709M) [application/zip]\n",
            "Saving to: ‘matlab.zip’\n",
            "\n",
            "matlab.zip          100%[===================>] 709.44M  12.4MB/s    in 42s     \n",
            "\n",
            "2018-11-29 17:13:44 (16.8 MB/s) - ‘matlab.zip’ saved [743900280/743900280]\n",
            "\n",
            "Archive:  matlab.zip\n",
            "  inflating: /content/dataset/matlab/emnist-balanced.mat  \n",
            "  inflating: /content/dataset/matlab/emnist-byclass.mat  \n",
            "  inflating: /content/dataset/matlab/emnist-bymerge.mat  \n",
            "  inflating: /content/dataset/matlab/emnist-digits.mat  \n",
            "  inflating: /content/dataset/matlab/emnist-letters.mat  \n",
            "  inflating: /content/dataset/matlab/emnist-mnist.mat  \n"
          ],
          "name": "stdout"
        }
      ]
    },
    {
      "metadata": {
        "id": "LLNOGDy6KwDL",
        "colab_type": "text"
      },
      "cell_type": "markdown",
      "source": [
        "## Importing libraries"
      ]
    },
    {
      "metadata": {
        "id": "QeWnXMacKwDk",
        "colab_type": "code",
        "colab": {}
      },
      "cell_type": "code",
      "source": [
        "import numpy as np\n",
        "%matplotlib inline"
      ],
      "execution_count": 0,
      "outputs": []
    },
    {
      "metadata": {
        "id": "8d_Zztq6E1zl",
        "colab_type": "code",
        "outputId": "fd7070d1-af3a-41eb-f9f7-657b72f3af61",
        "colab": {
          "base_uri": "https://localhost:8080/",
          "height": 35
        }
      },
      "cell_type": "code",
      "source": [
        "# Check if GPU is available\n",
        "import tensorflow as tf\n",
        "device_name = tf.test.gpu_device_name()\n",
        "if device_name != '/device:GPU:0':\n",
        "  raise SystemError('GPU device not found, to activate the GPU go to menu \"Runtime\" and submenu \"Change runtime type\", then change hardware accelerator from None to GPU.')\n",
        "print('Found GPU at: {}'.format(device_name))"
      ],
      "execution_count": 3,
      "outputs": [
        {
          "output_type": "stream",
          "text": [
            "Found GPU at: /device:GPU:0\n"
          ],
          "name": "stdout"
        }
      ]
    },
    {
      "metadata": {
        "id": "LeHMNj5jKwHA",
        "colab_type": "text"
      },
      "cell_type": "markdown",
      "source": [
        "# Load EMNIST Characters dataset by Class\n",
        "Introduced by https://arxiv.org/abs/1702.05373v1 downloaded from https://www.nist.gov/itl/iad/image-group/emnist-dataset (Matlab format dataset). The matlab format dataset can be conveniently imported with scipy.io.loadmat."
      ]
    },
    {
      "metadata": {
        "id": "kKCYBNu-aW67",
        "colab_type": "code",
        "colab": {}
      },
      "cell_type": "code",
      "source": [
        "from scipy import io as spio\n",
        "emnist = spio.loadmat(\"/content/dataset/matlab/emnist-byclass.mat\")"
      ],
      "execution_count": 0,
      "outputs": []
    },
    {
      "metadata": {
        "id": "aWN-q6ntKwIX",
        "colab_type": "code",
        "colab": {}
      },
      "cell_type": "code",
      "source": [
        "# load training dataset\n",
        "x_train = emnist[\"dataset\"][0][0][0][0][0][0]\n",
        "x_train = x_train.astype(np.float32)\n",
        "\n",
        "# load training labels\n",
        "y_train = emnist[\"dataset\"][0][0][0][0][0][1]"
      ],
      "execution_count": 0,
      "outputs": []
    },
    {
      "metadata": {
        "id": "w0hyN09iKwJO",
        "colab_type": "code",
        "colab": {}
      },
      "cell_type": "code",
      "source": [
        "# load test dataset\n",
        "x_test = emnist[\"dataset\"][0][0][1][0][0][0]\n",
        "x_test = x_test.astype(np.float32)\n",
        "\n",
        "# load test labels\n",
        "y_test = emnist[\"dataset\"][0][0][1][0][0][1]"
      ],
      "execution_count": 0,
      "outputs": []
    },
    {
      "metadata": {
        "id": "8PNUgYCSKwJ_",
        "colab_type": "code",
        "outputId": "4312604f-6a9c-4919-e394-e9f1c9cddbdc",
        "colab": {
          "base_uri": "https://localhost:8080/",
          "height": 54
        }
      },
      "cell_type": "code",
      "source": [
        "# store labels for visualization\n",
        "train_labels = y_train\n",
        "test_labels = y_test\n",
        "\n",
        "print (x_train.shape)\n",
        "print (y_train.shape)"
      ],
      "execution_count": 7,
      "outputs": [
        {
          "output_type": "stream",
          "text": [
            "(697932, 784)\n",
            "(697932, 1)\n"
          ],
          "name": "stdout"
        }
      ]
    },
    {
      "metadata": {
        "id": "P477eyC1KwOf",
        "colab_type": "code",
        "colab": {
          "base_uri": "https://localhost:8080/",
          "height": 35
        },
        "outputId": "19b427e7-ed56-4e67-d1f2-e3111028032a"
      },
      "cell_type": "code",
      "source": [
        "# Preprocess input data, reshape using matlab order\n",
        "x_train = x_train.reshape(x_train.shape[0], 28, 28, 1, order=\"A\")\n",
        "x_test = x_test.reshape(x_test.shape[0], 28, 28, 1, order=\"A\")\n",
        "\n",
        "\n",
        "## normalized to 16 colours instead of 255\n",
        "numberofcolors = 16\n",
        "colors = 255//(numberofcolors-1)\n",
        "x_train /= colors\n",
        "x_test /= colors\n",
        "\n",
        "x_train.shape"
      ],
      "execution_count": 8,
      "outputs": [
        {
          "output_type": "execute_result",
          "data": {
            "text/plain": [
              "(697932, 28, 28, 1)"
            ]
          },
          "metadata": {
            "tags": []
          },
          "execution_count": 8
        }
      ]
    },
    {
      "metadata": {
        "id": "BcUFOIvUKwQz",
        "colab_type": "code",
        "outputId": "5ffbccf9-1a39-496d-ee0e-5e8a5e596de1",
        "colab": {
          "base_uri": "https://localhost:8080/",
          "height": 72
        }
      },
      "cell_type": "code",
      "source": [
        "from keras.utils import np_utils\n",
        "\n",
        "# Preprocess class labels\n",
        "## EMNIST ByClass: 814,255 characters. 62 unbalanced classes.\n",
        "## Convert 1-dimensional class arrays to 62-dimensional class matrices\n",
        "\n",
        "number_classes = 62\n",
        "\n",
        "y_train = np_utils.to_categorical(y_train, number_classes )\n",
        "y_test = np_utils.to_categorical(y_test,  number_classes )\n",
        "\n",
        "print (y_train.shape)\n",
        "print (y_test.shape)"
      ],
      "execution_count": 9,
      "outputs": [
        {
          "output_type": "stream",
          "text": [
            "Using TensorFlow backend.\n"
          ],
          "name": "stderr"
        },
        {
          "output_type": "stream",
          "text": [
            "(697932, 62)\n",
            "(116323, 62)\n"
          ],
          "name": "stdout"
        }
      ]
    },
    {
      "metadata": {
        "id": "BRWrGVIzKwRs",
        "colab_type": "text"
      },
      "cell_type": "markdown",
      "source": [
        "## Analyze imported data"
      ]
    },
    {
      "metadata": {
        "id": "MQ3ixO_QUT_6",
        "colab_type": "code",
        "colab": {}
      },
      "cell_type": "code",
      "source": [
        "class_idx = ['0','1','2','3','4','5','6','7','8','9',\n",
        "             'A','B','C','D','E','F','G','H','I','J','K','L','M','N','O','P','Q','R','S','T','U','V','W','X','Y','Z',\n",
        "             'a','b','c','d','e','f','g','h','i','j','k','l','m','n','o','p','q','r','s','t','u','v','w','x','y','z']"
      ],
      "execution_count": 0,
      "outputs": []
    },
    {
      "metadata": {
        "id": "e0jvobuJKwSs",
        "colab_type": "code",
        "colab": {}
      },
      "cell_type": "code",
      "source": [
        "# which sample to look at\n",
        "samplenum = 14500"
      ],
      "execution_count": 0,
      "outputs": []
    },
    {
      "metadata": {
        "scrolled": true,
        "id": "9CJa7hUaKwTV",
        "colab_type": "code",
        "outputId": "545192c8-e5d1-4609-da02-238c3b5320b3",
        "colab": {
          "base_uri": "https://localhost:8080/",
          "height": 283
        }
      },
      "cell_type": "code",
      "source": [
        "import matplotlib.pyplot as plt\n",
        "img = x_train[samplenum]\n",
        "\n",
        "# visualize image\n",
        "plt.imshow(img[:,:,0], cmap='gray')"
      ],
      "execution_count": 12,
      "outputs": [
        {
          "output_type": "execute_result",
          "data": {
            "text/plain": [
              "<matplotlib.image.AxesImage at 0x7f14daf49860>"
            ]
          },
          "metadata": {
            "tags": []
          },
          "execution_count": 12
        },
        {
          "output_type": "display_data",
          "data": {
            "image/png": "[encoded data removed]",
            "text/plain": [
              "<matplotlib.figure.Figure at 0x7f14db1451d0>"
            ]
          },
          "metadata": {
            "tags": []
          }
        }
      ]
    },
    {
      "metadata": {
        "id": "hueA-3mwKwU4",
        "colab_type": "code",
        "outputId": "4e467224-e4fa-4eb8-ce29-7511d7e102dc",
        "colab": {
          "base_uri": "https://localhost:8080/",
          "height": 35
        }
      },
      "cell_type": "code",
      "source": [
        "# show label for sample image\n",
        "index = train_labels[samplenum][0]\n",
        "class_idx[ index ]"
      ],
      "execution_count": 13,
      "outputs": [
        {
          "output_type": "execute_result",
          "data": {
            "text/plain": [
              "'e'"
            ]
          },
          "metadata": {
            "tags": []
          },
          "execution_count": 13
        }
      ]
    },
    {
      "metadata": {
        "id": "3j34ohR0Ducm",
        "colab_type": "code",
        "colab": {
          "base_uri": "https://localhost:8080/",
          "height": 110
        },
        "outputId": "bbb61233-716a-496f-e6c1-e409f467ad94"
      },
      "cell_type": "code",
      "source": [
        "# visualize train samples\n",
        "fig = plt.figure(figsize=(12,6))\n",
        "for i in range(12):\n",
        "  rows = 2\n",
        "  columns = 12\n",
        "  sp = fig.add_subplot( rows, columns , i+1)                 # plot a matrix with 2 rows and 12 columns\n",
        "  sp.axis('Off')                                             # removes background grill\n",
        "  img = x_train[i]                                        \n",
        "  plt.imshow(img[:,:,0], cmap='gray', interpolation='none')  # prints image\n",
        "  index = train_labels[i][0]\n",
        "  plt.title(\"Letter: \" + str( class_idx[ index ] ))          # adds title to the letter or number"
      ],
      "execution_count": 14,
      "outputs": [
        {
          "output_type": "display_data",
          "data": {
            "image/png": "[encoded data removed]",
            "text/plain": [
              "<matplotlib.figure.Figure at 0x7f14daef22b0>"
            ]
          },
          "metadata": {
            "tags": []
          }
        }
      ]
    },
    {
      "metadata": {
        "id": "Y6xANdOiKwVz",
        "colab_type": "text"
      },
      "cell_type": "markdown",
      "source": [
        "## Reshape test labels"
      ]
    },
    {
      "metadata": {
        "id": "ggjspOKhKwV-",
        "colab_type": "code",
        "outputId": "5d7c3660-1a42-4685-ecf9-f7ce788ee9e5",
        "colab": {
          "base_uri": "https://localhost:8080/",
          "height": 35
        }
      },
      "cell_type": "code",
      "source": [
        "print ( test_labels.shape )\n",
        "reshape = str(test_labels.shape).split(',')\n",
        "reshape = int(reshape[0][1:])"
      ],
      "execution_count": 15,
      "outputs": [
        {
          "output_type": "stream",
          "text": [
            "(116323, 1)\n"
          ],
          "name": "stdout"
        }
      ]
    },
    {
      "metadata": {
        "id": "xkeeny9rKwWc",
        "colab_type": "code",
        "colab": {
          "base_uri": "https://localhost:8080/",
          "height": 35
        },
        "outputId": "d03c06ee-0751-42a9-f9cc-8e5028e0391b"
      },
      "cell_type": "code",
      "source": [
        "test_labels = test_labels.reshape( reshape )\n",
        "test_labels.shape"
      ],
      "execution_count": 16,
      "outputs": [
        {
          "output_type": "execute_result",
          "data": {
            "text/plain": [
              "(116323,)"
            ]
          },
          "metadata": {
            "tags": []
          },
          "execution_count": 16
        }
      ]
    },
    {
      "metadata": {
        "id": "BxKt62uvKwZn",
        "colab_type": "text"
      },
      "cell_type": "markdown",
      "source": [
        "## Data augmentation\n",
        "Use keras data augmentation."
      ]
    },
    {
      "metadata": {
        "id": "QRRBoXBJKwZx",
        "colab_type": "code",
        "colab": {}
      },
      "cell_type": "code",
      "source": [
        "batch_size = 512"
      ],
      "execution_count": 0,
      "outputs": []
    },
    {
      "metadata": {
        "id": "Ncv7DoECKwaU",
        "colab_type": "code",
        "colab": {}
      },
      "cell_type": "code",
      "source": [
        "from keras.preprocessing.image import ImageDataGenerator"
      ],
      "execution_count": 0,
      "outputs": []
    },
    {
      "metadata": {
        "id": "Ywjx6EWRKwau",
        "colab_type": "code",
        "colab": {}
      },
      "cell_type": "code",
      "source": [
        "gen = ImageDataGenerator(rotation_range=12, width_shift_range=0.1, shear_range=0.3,\n",
        "                        height_shift_range=0.1, zoom_range=0.1, data_format='channels_last')\n",
        "batches = gen.flow(x_train, y_train, batch_size=batch_size)\n",
        "test_batches = gen.flow(x_test, y_test, batch_size=batch_size)\n",
        "steps_per_epoch = int(np.ceil(batches.n/batch_size))\n",
        "validation_steps = int(np.ceil(test_batches.n/batch_size))"
      ],
      "execution_count": 0,
      "outputs": []
    },
    {
      "metadata": {
        "id": "-FDpnFlyKwbQ",
        "colab_type": "code",
        "outputId": "bd5274bb-ada7-46c9-d3ac-b4a36fc977f5",
        "colab": {
          "base_uri": "https://localhost:8080/",
          "height": 283
        }
      },
      "cell_type": "code",
      "source": [
        "import matplotlib.pyplot as plt\n",
        "\n",
        "# load ONE image from training set to display on screen\n",
        "img = x_train[1]\n",
        "\n",
        "# visualize original image\n",
        "plt.imshow(img[:,:,0], cmap='gray')"
      ],
      "execution_count": 20,
      "outputs": [
        {
          "output_type": "execute_result",
          "data": {
            "text/plain": [
              "<matplotlib.image.AxesImage at 0x7f14d8b7a0f0>"
            ]
          },
          "metadata": {
            "tags": []
          },
          "execution_count": 20
        },
        {
          "output_type": "display_data",
          "data": {
            "image/png": "[encoded data removed]",
            "text/plain": [
              "<matplotlib.figure.Figure at 0x7f14daf18c18>"
            ]
          },
          "metadata": {
            "tags": []
          }
        }
      ]
    },
    {
      "metadata": {
        "id": "ePhRmhflKwb1",
        "colab_type": "code",
        "colab": {}
      },
      "cell_type": "code",
      "source": [
        "# trick our generator into believing img has enough dimensions\n",
        "# and get some augmented images for our single test image\n",
        "img = np.expand_dims(img, axis=0)\n",
        "aug_iter = gen.flow(img)"
      ],
      "execution_count": 0,
      "outputs": []
    },
    {
      "metadata": {
        "id": "1m6XdCS_KwcN",
        "colab_type": "code",
        "outputId": "2d8b00e7-db96-4993-84ee-7a15b4f4d54d",
        "colab": {
          "base_uri": "https://localhost:8080/",
          "height": 35
        }
      },
      "cell_type": "code",
      "source": [
        "aug_img = next(aug_iter)[0].astype(np.float32)\n",
        "aug_img.shape"
      ],
      "execution_count": 22,
      "outputs": [
        {
          "output_type": "execute_result",
          "data": {
            "text/plain": [
              "(28, 28, 1)"
            ]
          },
          "metadata": {
            "tags": []
          },
          "execution_count": 22
        }
      ]
    },
    {
      "metadata": {
        "id": "wsKl8FrSKwck",
        "colab_type": "code",
        "outputId": "c103062e-db25-42a4-c2c2-b1fdc9bd354a",
        "colab": {
          "base_uri": "https://localhost:8080/",
          "height": 122
        }
      },
      "cell_type": "code",
      "source": [
        "import matplotlib.pyplot as plt\n",
        "\n",
        "# show augmented images\n",
        "f = plt.figure(figsize=(12,6))\n",
        "for i in range(8):\n",
        "    sp = f.add_subplot(2, 26//3, i+1)\n",
        "    sp.axis('Off')\n",
        "    aug_img = next(aug_iter)[0].astype(np.float32)\n",
        "    plt.imshow(aug_img[:,:,0], cmap='gray')                 # images are stored as (img_size, image_size, channel)  to print it we should call it img [;,;,0]"
      ],
      "execution_count": 23,
      "outputs": [
        {
          "output_type": "display_data",
          "data": {
            "image/png": "[encoded data removed]",
            "text/plain": [
              "<matplotlib.figure.Figure at 0x7f14d8bc3b00>"
            ]
          },
          "metadata": {
            "tags": []
          }
        }
      ]
    },
    {
      "metadata": {
        "id": "d18YSeUD9mrZ",
        "colab_type": "text"
      },
      "cell_type": "markdown",
      "source": [
        "# Build the network"
      ]
    },
    {
      "metadata": {
        "id": "XxDl-hYAbdS-",
        "colab_type": "code",
        "colab": {}
      },
      "cell_type": "code",
      "source": [
        "import os                    # Load os\n",
        "import tensorflow as tf\n",
        "from tensorflow.keras.models import Sequential\n",
        "from tensorflow.keras.layers import Dense, Dropout, Activation, Flatten, Conv2D, MaxPooling2D"
      ],
      "execution_count": 0,
      "outputs": []
    },
    {
      "metadata": {
        "id": "Ujbqs7B7f3jT",
        "colab_type": "code",
        "outputId": "38a8a826-20cf-4078-a568-3d8ea6b4f6be",
        "colab": {
          "base_uri": "https://localhost:8080/",
          "height": 35
        }
      },
      "cell_type": "code",
      "source": [
        "x_train.shape"
      ],
      "execution_count": 25,
      "outputs": [
        {
          "output_type": "execute_result",
          "data": {
            "text/plain": [
              "(697932, 28, 28, 1)"
            ]
          },
          "metadata": {
            "tags": []
          },
          "execution_count": 25
        }
      ]
    },
    {
      "metadata": {
        "id": "JF_L_R0uf6Bx",
        "colab_type": "code",
        "outputId": "1467bd6c-e784-496a-c655-d95353272847",
        "colab": {
          "base_uri": "https://localhost:8080/",
          "height": 35
        }
      },
      "cell_type": "code",
      "source": [
        "len (y_train)"
      ],
      "execution_count": 26,
      "outputs": [
        {
          "output_type": "execute_result",
          "data": {
            "text/plain": [
              "697932"
            ]
          },
          "metadata": {
            "tags": []
          },
          "execution_count": 26
        }
      ]
    },
    {
      "metadata": {
        "id": "rQGFA9hvNDf7",
        "colab_type": "code",
        "colab": {}
      },
      "cell_type": "code",
      "source": [
        "# Architecture model \n",
        "\n",
        "#  Input Vector :  784 pixels\n",
        "#  Layer 1      :  128 nodes\n",
        "#  Layer 2      :  128 nodes\n",
        "#  Output Layer :  62 categories"
      ],
      "execution_count": 0,
      "outputs": []
    },
    {
      "metadata": {
        "id": "GD3Cu6zbbt8H",
        "colab_type": "code",
        "colab": {}
      },
      "cell_type": "code",
      "source": [
        "categories = 62\n",
        "ly1_neurons = 128\n",
        "ly2_neurons = 128\n",
        "\n",
        "# Define model architecture\n",
        "model = Sequential()\n",
        "\n",
        "## Input: 28x28 images with 1 channel -> (28, 28, 1) tensors.\n",
        "\n",
        "## First layer\n",
        "model.add(Conv2D(ly1_neurons, (3,3), input_shape = x_train.shape[1:]))    # adds 128 neurons with 3x3 window size\n",
        "model.add(Activation(\"relu\"))                                             # Activatior layer = relu (rectified linear regresion)\n",
        "model.add(MaxPooling2D(pool_size=(2,2)))\n",
        "model.add(Dropout(0.2))\n",
        "\n",
        "## Second layer\n",
        "model.add(Conv2D(ly2_neurons, (3,3)))                                     # adds 128 neurons with 3x3 window size\n",
        "model.add(Activation(\"relu\"))                                             # Activatior layer = relu (rectified linear regresion)\n",
        "model.add(MaxPooling2D(pool_size=(2,2)))\n",
        "model.add(Dropout(0.2))\n",
        "\n",
        "## Third layer\n",
        "model.add(Flatten())\n",
        "model.add(Dense( categories ))                                            # to clasify in 62 classes\n",
        "model.add(Activation('sigmoid'))                                          # Activatior layer = sigmoid"
      ],
      "execution_count": 0,
      "outputs": []
    },
    {
      "metadata": {
        "id": "MqgjRECMPvtw",
        "colab_type": "text"
      },
      "cell_type": "markdown",
      "source": [
        "#Compile the network"
      ]
    },
    {
      "metadata": {
        "id": "L28A5LcrSgCy",
        "colab_type": "code",
        "colab": {}
      },
      "cell_type": "code",
      "source": [
        "# Compile model\n",
        "model.compile(loss='categorical_crossentropy',\n",
        "            optimizer='adam',\n",
        "            metrics=['accuracy'])"
      ],
      "execution_count": 0,
      "outputs": []
    },
    {
      "metadata": {
        "id": "0XFuLpxQXNa6",
        "colab_type": "text"
      },
      "cell_type": "markdown",
      "source": [
        "#Train the model"
      ]
    },
    {
      "metadata": {
        "id": "yukxTCFAgNoZ",
        "colab_type": "code",
        "colab": {}
      },
      "cell_type": "code",
      "source": [
        "#  Log to be reviewed with tensorboard\n",
        "\n",
        "import time\n",
        "from tensorflow.keras.callbacks import TensorBoard\n",
        "\n",
        "#Define log name\n",
        "log_name = 'EMNIST byClass-cnn-'+str (ly1_neurons) +'x'+ str(ly2_neurons)+'-{}'.format(int(time.time()))\n",
        "tensorboard = TensorBoard(log_dir='logs/{}'.format(log_name))\n",
        "!mkdir /content/logs"
      ],
      "execution_count": 0,
      "outputs": []
    },
    {
      "metadata": {
        "id": "mmnEI7wubtq1",
        "colab_type": "code",
        "outputId": "e258a134-10e5-4d11-9898-5d6f23543f8b",
        "colab": {
          "base_uri": "https://localhost:8080/",
          "height": 146
        }
      },
      "cell_type": "code",
      "source": [
        "batch_size = 128\n",
        "epochs = 3\n",
        "\n",
        "# Fit model on training data\n",
        "history = model.fit(x_train, y_train\n",
        "              , batch_size\n",
        "              , epochs\n",
        "              , verbose=1\n",
        "              , callbacks = [tensorboard]\n",
        "              , validation_data=(x_test, y_test)\n",
        "             )"
      ],
      "execution_count": 35,
      "outputs": [
        {
          "output_type": "stream",
          "text": [
            "Train on 697932 samples, validate on 116323 samples\n",
            "Epoch 1/3\n",
            "697932/697932 [==============================] - 136s 195us/step - loss: 0.5203 - acc: 0.8265 - val_loss: 0.4082 - val_acc: 0.8564\n",
            "Epoch 2/3\n",
            "697932/697932 [==============================] - 136s 195us/step - loss: 0.4161 - acc: 0.8525 - val_loss: 0.3879 - val_acc: 0.8630\n",
            "Epoch 3/3\n",
            "697932/697932 [==============================] - 136s 195us/step - loss: 0.3940 - acc: 0.8581 - val_loss: 0.3852 - val_acc: 0.8622\n"
          ],
          "name": "stdout"
        }
      ]
    },
    {
      "metadata": {
        "id": "R8t9saoOISiF",
        "colab_type": "text"
      },
      "cell_type": "markdown",
      "source": [
        "## Evaluate final accuracy"
      ]
    },
    {
      "metadata": {
        "id": "SATtLUdE6kUN",
        "colab_type": "code",
        "outputId": "7d0e69b6-5a61-4bfb-a82a-34b04d0b82a3",
        "colab": {
          "base_uri": "https://localhost:8080/",
          "height": 54
        }
      },
      "cell_type": "code",
      "source": [
        "# Evaluate model on test data\n",
        "loss, accuracy = model.evaluate(x_test, y_test, verbose=0)\n",
        "print ('Test loss ', loss )\n",
        "print ('Test accuracy ', accuracy )"
      ],
      "execution_count": 36,
      "outputs": [
        {
          "output_type": "stream",
          "text": [
            "Test loss  0.38520802754732053\n",
            "Test accuracy  0.8621510793227445\n"
          ],
          "name": "stdout"
        }
      ]
    },
    {
      "metadata": {
        "id": "ceIMuiUcYhv0",
        "colab_type": "text"
      },
      "cell_type": "markdown",
      "source": [
        "## Saving model"
      ]
    },
    {
      "metadata": {
        "id": "Io6gV3b4D-be",
        "colab_type": "code",
        "outputId": "df6228d3-2f73-4289-93b6-9639e320f281",
        "colab": {
          "base_uri": "https://localhost:8080/",
          "height": 35
        }
      },
      "cell_type": "code",
      "source": [
        "save_dir = '/content/'\n",
        "model_name = 'model - '+str (ly1_neurons) +'x'+ str(ly2_neurons)+' bs:' + str(batch_size) +' ep:'+ str(epochs) +' acc:'+ str(round(accuracy, 3)) +' loss:' + str(round(loss, 3)) +' .h5'\n",
        "\n",
        "model_path = os.path.join(save_dir, model_name)\n",
        "model.save( model_path )\n",
        "print ('Saved trained model at ' + model_path )"
      ],
      "execution_count": 37,
      "outputs": [
        {
          "output_type": "stream",
          "text": [
            "Saved trained model at /content/model -128x128 bs:128 ep:3 acc:0.862 loss:0.385 .h5\n"
          ],
          "name": "stdout"
        }
      ]
    },
    {
      "metadata": {
        "id": "tVHxIwfccMxW",
        "colab_type": "text"
      },
      "cell_type": "markdown",
      "source": [
        "##Predict image"
      ]
    },
    {
      "metadata": {
        "colab_type": "code",
        "outputId": "575dd3b8-db3a-467a-fb86-b573e4e6eae9",
        "id": "PvuHXEHRcwzO",
        "colab": {
          "base_uri": "https://localhost:8080/",
          "height": 298
        }
      },
      "cell_type": "code",
      "source": [
        "import random\n",
        "image_index = random.randint(1,len(x_test))\n",
        "\n",
        "image = x_test[image_index] # show label for sample image\n",
        "plt.imshow(image[:,:,0], cmap='gray', interpolation='none')\n",
        "\n",
        "image = np.expand_dims(image, axis=0)\n",
        "scores = model.predict(image)\n",
        "\n",
        "index = np.argmax(scores)\n",
        "plt.title(\"Letter: \" + str( class_idx[ index ] ))"
      ],
      "execution_count": 38,
      "outputs": [
        {
          "output_type": "execute_result",
          "data": {
            "text/plain": [
              "Text(0.5,1,'Letter: 7')"
            ]
          },
          "metadata": {
            "tags": []
          },
          "execution_count": 38
        },
        {
          "output_type": "display_data",
          "data": {
            "image/png": "[encoded data removed]",
            "text/plain": [
              "<matplotlib.figure.Figure at 0x7f14d5136ac8>"
            ]
          },
          "metadata": {
            "tags": []
          }
        }
      ]
    },
    {
      "metadata": {
        "id": "Ev6wx9AZg6S3",
        "colab_type": "text"
      },
      "cell_type": "markdown",
      "source": [
        "# Plot training history"
      ]
    },
    {
      "metadata": {
        "id": "QOgyrrBThsry",
        "colab_type": "code",
        "colab": {
          "base_uri": "https://localhost:8080/",
          "height": 297
        },
        "outputId": "60c3aaa0-73c5-4f12-def7-3398e66ecebf"
      },
      "cell_type": "code",
      "source": [
        "# plotting the metrics\n",
        "fig = plt.figure()\n",
        "plt.subplot(2,1,1)\n",
        "plt.plot(history.history['acc'])\n",
        "plt.plot(history.history['val_acc'])\n",
        "plt.title('model accuracy')\n",
        "plt.ylabel('accuracy')\n",
        "plt.xlabel('epoch')\n",
        "plt.legend(['train', 'test'], loc='lower right')\n",
        "\n",
        "plt.subplot(2,1,2)\n",
        "plt.plot(history.history['loss'])\n",
        "plt.plot(history.history['val_loss'])\n",
        "plt.title('model loss')\n",
        "plt.ylabel('loss')\n",
        "plt.xlabel('epoch')\n",
        "plt.legend(['train', 'test'], loc='upper right')\n",
        "\n",
        "plt.tight_layout()"
      ],
      "execution_count": 39,
      "outputs": [
        {
          "output_type": "display_data",
          "data": {
            "image/png": "[encoded data removed]",
            "text/plain": [
              "<matplotlib.figure.Figure at 0x7f14d5090c88>"
            ]
          },
          "metadata": {
            "tags": []
          }
        }
      ]
    },
    {
      "metadata": {
        "id": "FDBsjAUtnwFQ",
        "colab_type": "text"
      },
      "cell_type": "markdown",
      "source": [
        "#Evaluate model performance"
      ]
    },
    {
      "metadata": {
        "id": "KjKAN0KSnvo1",
        "colab_type": "code",
        "colab": {}
      },
      "cell_type": "code",
      "source": [
        "# load the model and create predictions on the test set\n",
        "# mnist_model = load_model( model_name )\n",
        "predicted_classes = model.predict_classes(x_test)"
      ],
      "execution_count": 0,
      "outputs": []
    },
    {
      "metadata": {
        "id": "yuDJiRpFv3wX",
        "colab_type": "code",
        "colab": {
          "base_uri": "https://localhost:8080/",
          "height": 72
        },
        "outputId": "9652c9a2-484c-4a8f-9bf0-37eb1f2691c9"
      },
      "cell_type": "code",
      "source": [
        "# see which we predicted correctly and which not\n",
        "correct_indices = np.nonzero(predicted_classes == test_labels)[0]\n",
        "incorrect_indices = np.nonzero(predicted_classes != test_labels)[0]\n",
        "print()\n",
        "print(len(correct_indices),\" classified correctly\")\n",
        "print(len(incorrect_indices),\" classified incorrectly\")"
      ],
      "execution_count": 41,
      "outputs": [
        {
          "output_type": "stream",
          "text": [
            "\n",
            "100288  classified correctly\n",
            "16035  classified incorrectly\n"
          ],
          "name": "stdout"
        }
      ]
    },
    {
      "metadata": {
        "id": "FgA75pjXwlY7",
        "colab_type": "text"
      },
      "cell_type": "markdown",
      "source": [
        "## Visualize 12 correct prediction"
      ]
    },
    {
      "metadata": {
        "id": "Wtfh3Ediv_70",
        "colab_type": "code",
        "colab": {
          "base_uri": "https://localhost:8080/",
          "height": 124
        },
        "outputId": "6d0629c4-c131-4d21-d06f-fd53e104ef9a"
      },
      "cell_type": "code",
      "source": [
        "fig = plt.figure(figsize=(12,6))\n",
        "for i, correct in enumerate(correct_indices[:12]):\n",
        "  rows = 2\n",
        "  columns = 12\n",
        "  sp = fig.add_subplot( rows, columns , i+1)                 # plot a matrix with 2 rows and 12 columns\n",
        "  sp.axis('Off')                                             # removes background grill\n",
        "  img = x_train[i]                                        \n",
        "  plt.imshow(x_test[correct].reshape(28,28), cmap='gray', interpolation='none')  # prints image\n",
        "  plt.title(\n",
        "      'Predict: ' + str(class_idx[predicted_classes[correct]]) +\n",
        "      '\\nTruth: ' + str(class_idx[test_labels[correct]])\n",
        "  )"
      ],
      "execution_count": 42,
      "outputs": [
        {
          "output_type": "display_data",
          "data": {
            "image/png": "[encoded data removed]",
            "text/plain": [
              "<matplotlib.figure.Figure at 0x7f14d507f2e8>"
            ]
          },
          "metadata": {
            "tags": []
          }
        }
      ]
    },
    {
      "metadata": {
        "id": "A29-89RcwsHp",
        "colab_type": "text"
      },
      "cell_type": "markdown",
      "source": [
        "## Visualize 12 incorrect prediction"
      ]
    },
    {
      "metadata": {
        "id": "IXTkk8sTwyw_",
        "colab_type": "code",
        "colab": {
          "base_uri": "https://localhost:8080/",
          "height": 124
        },
        "outputId": "4e28d386-2fd4-445c-c5a5-df6e5e3e1683"
      },
      "cell_type": "code",
      "source": [
        "fig = plt.figure(figsize=(12,6))\n",
        "for i, correct in enumerate(incorrect_indices[:12]):\n",
        "  rows = 2\n",
        "  columns = 12\n",
        "  sp = fig.add_subplot( rows, columns , i+1)                 # plot a matrix with 2 rows and 12 columns\n",
        "  sp.axis('Off')                                             # removes background grill\n",
        "  img = x_train[i]                                        \n",
        "  plt.imshow(x_test[correct].reshape(28,28), cmap='gray', interpolation='none')  # prints image\n",
        "  plt.title(\n",
        "      'Predict: ' + str(class_idx[predicted_classes[correct]]) +\n",
        "      '\\nTruth: ' + str(class_idx[test_labels[correct]])\n",
        "  )"
      ],
      "execution_count": 43,
      "outputs": [
        {
          "output_type": "display_data",
          "data": {
            "image/png": "[encoded data removed]",
            "text/plain": [
              "<matplotlib.figure.Figure at 0x7f14d51080b8>"
            ]
          },
          "metadata": {
            "tags": []
          }
        }
      ]
    }
  ]
}