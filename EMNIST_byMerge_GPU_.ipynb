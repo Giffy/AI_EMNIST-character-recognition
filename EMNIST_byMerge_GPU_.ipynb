{
  "nbformat": 4,
  "nbformat_minor": 0,
  "metadata": {
    "colab": {
      "name": "EMNIST byMerge GPU .ipynb",
      "version": "0.3.2",
      "provenance": [],
      "collapsed_sections": [
        "LeHMNj5jKwHA",
        "BRWrGVIzKwRs",
        "BxKt62uvKwZn"
      ],
      "include_colab_link": true
    },
    "kernelspec": {
      "name": "python3",
      "display_name": "Python 3"
    },
    "accelerator": "GPU"
  },
  "cells": [
    {
      "cell_type": "markdown",
      "metadata": {
        "id": "view-in-github",
        "colab_type": "text"
      },
      "source": [
        "<a href=\"https://colab.research.google.com/github/Giffy/EMNIST-character-recognition/blob/master/EMNIST_byMerge_GPU_.ipynb\" target=\"_parent\"><img src=\"https://colab.research.google.com/assets/colab-badge.svg\" alt=\"Open In Colab\"/></a>"
      ]
    },
    {
      "metadata": {
        "id": "jONSN35XKwCt",
        "colab_type": "text"
      },
      "cell_type": "markdown",
      "source": [
        "# EMNIST character classification by class\n",
        "\n",
        "This is the first approach to EMNIST character classification, based in reference code:\n",
        "\n",
        "https://github.com/j05t/emnist \n",
        "\n",
        "https://nextjournal.com/gkoehler/digit-recognition-with-keras\n"
      ]
    },
    {
      "metadata": {
        "id": "fo0bCU7EDQHL",
        "colab_type": "text"
      },
      "cell_type": "markdown",
      "source": [
        "#Download dataset and inflate"
      ]
    },
    {
      "metadata": {
        "id": "JQDyEQra28mx",
        "colab_type": "text"
      },
      "cell_type": "markdown",
      "source": [
        "## Download and inflate dataset"
      ]
    },
    {
      "metadata": {
        "id": "7HpNzvrfZ2Xi",
        "colab_type": "code",
        "colab": {}
      },
      "cell_type": "code",
      "source": [
        "# Check if already downloaded\n",
        "check = !if [ -d 'dataset/' ]; then echo \"1\" ; else echo \"0\"; fi\n",
        "if (check[0] is '0' ):\n",
        "  !mkdir dataset\n",
        "  !wget 'https://www.itl.nist.gov/iaui/vip/cs_links/EMNIST/matlab.zip'\n",
        "  !unzip matlab.zip -d /content/dataset"
      ],
      "execution_count": 0,
      "outputs": []
    },
    {
      "metadata": {
        "id": "LLNOGDy6KwDL",
        "colab_type": "text"
      },
      "cell_type": "markdown",
      "source": [
        "## Importing libraries"
      ]
    },
    {
      "metadata": {
        "id": "QeWnXMacKwDk",
        "colab_type": "code",
        "colab": {}
      },
      "cell_type": "code",
      "source": [
        "import numpy as np\n",
        "%matplotlib inline"
      ],
      "execution_count": 0,
      "outputs": []
    },
    {
      "metadata": {
        "id": "8d_Zztq6E1zl",
        "colab_type": "code",
        "outputId": "01a19004-8fab-4ae1-f4e9-70fd3a729fdf",
        "colab": {
          "base_uri": "https://localhost:8080/",
          "height": 34
        }
      },
      "cell_type": "code",
      "source": [
        "# Check if GPU is available\n",
        "import tensorflow as tf\n",
        "device_name = tf.test.gpu_device_name()\n",
        "if device_name != '/device:GPU:0':\n",
        "  raise SystemError('GPU device not found, to activate the GPU go to menu \"Runtime\" and submenu \"Change runtime type\", then change hardware accelerator from None to GPU.')\n",
        "print('Found GPU at: {}'.format(device_name))"
      ],
      "execution_count": 8,
      "outputs": [
        {
          "output_type": "stream",
          "text": [
            "Found GPU at: /device:GPU:0\n"
          ],
          "name": "stdout"
        }
      ]
    },
    {
      "metadata": {
        "id": "LeHMNj5jKwHA",
        "colab_type": "text"
      },
      "cell_type": "markdown",
      "source": [
        "# Load EMNIST Characters dataset by Class\n",
        "Introduced by https://arxiv.org/abs/1702.05373v1 downloaded from https://www.nist.gov/itl/iad/image-group/emnist-dataset (Matlab format dataset). The matlab format dataset can be conveniently imported with scipy.io.loadmat."
      ]
    },
    {
      "metadata": {
        "id": "kKCYBNu-aW67",
        "colab_type": "code",
        "colab": {}
      },
      "cell_type": "code",
      "source": [
        "from scipy import io as spio\n",
        "emnist = spio.loadmat(\"/content/dataset/matlab/emnist-bymerge.mat\")"
      ],
      "execution_count": 0,
      "outputs": []
    },
    {
      "metadata": {
        "id": "aWN-q6ntKwIX",
        "colab_type": "code",
        "colab": {}
      },
      "cell_type": "code",
      "source": [
        "# load training dataset\n",
        "x_train = emnist[\"dataset\"][0][0][0][0][0][0]\n",
        "x_train = x_train.astype(np.float32)\n",
        "\n",
        "# load training labels\n",
        "y_train = emnist[\"dataset\"][0][0][0][0][0][1]"
      ],
      "execution_count": 0,
      "outputs": []
    },
    {
      "metadata": {
        "id": "w0hyN09iKwJO",
        "colab_type": "code",
        "colab": {}
      },
      "cell_type": "code",
      "source": [
        "# load test dataset\n",
        "x_test = emnist[\"dataset\"][0][0][1][0][0][0]\n",
        "x_test = x_test.astype(np.float32)\n",
        "\n",
        "# load test labels\n",
        "y_test = emnist[\"dataset\"][0][0][1][0][0][1]"
      ],
      "execution_count": 0,
      "outputs": []
    },
    {
      "metadata": {
        "id": "8PNUgYCSKwJ_",
        "colab_type": "code",
        "outputId": "d86e48d8-60c0-453f-f00c-b6dcef3a20ae",
        "colab": {
          "base_uri": "https://localhost:8080/",
          "height": 52
        }
      },
      "cell_type": "code",
      "source": [
        "# store labels for visualization\n",
        "train_labels = y_train\n",
        "test_labels = y_test\n",
        "\n",
        "print (x_train.shape)\n",
        "print (y_train.shape)"
      ],
      "execution_count": 12,
      "outputs": [
        {
          "output_type": "stream",
          "text": [
            "(697932, 784)\n",
            "(697932, 1)\n"
          ],
          "name": "stdout"
        }
      ]
    },
    {
      "metadata": {
        "id": "P477eyC1KwOf",
        "colab_type": "code",
        "outputId": "722ca8b7-7a8c-4519-a513-24f29eb794d1",
        "colab": {
          "base_uri": "https://localhost:8080/",
          "height": 34
        }
      },
      "cell_type": "code",
      "source": [
        "# Preprocess input data, reshape using matlab order\n",
        "x_train = x_train.reshape(x_train.shape[0], 28, 28, 1, order=\"A\")\n",
        "x_test = x_test.reshape(x_test.shape[0], 28, 28, 1, order=\"A\")\n",
        "\n",
        "\n",
        "## normalized to 16 colours instead of 255\n",
        "numberofcolors = 16\n",
        "colors = 255//(numberofcolors-1)\n",
        "x_train /= colors\n",
        "x_test /= colors\n",
        "\n",
        "x_train.shape"
      ],
      "execution_count": 13,
      "outputs": [
        {
          "output_type": "execute_result",
          "data": {
            "text/plain": [
              "(697932, 28, 28, 1)"
            ]
          },
          "metadata": {
            "tags": []
          },
          "execution_count": 13
        }
      ]
    },
    {
      "metadata": {
        "id": "BcUFOIvUKwQz",
        "colab_type": "code",
        "outputId": "bc28555f-a94a-414b-96fd-550c0ab9a40d",
        "colab": {
          "base_uri": "https://localhost:8080/",
          "height": 69
        }
      },
      "cell_type": "code",
      "source": [
        "from keras.utils import np_utils\n",
        "\n",
        "# Preprocess class labels\n",
        "## EMNIST ByClass: 814,255 characters. 62 unbalanced classes.\n",
        "## Convert 1-dimensional class arrays to 62-dimensional class matrices\n",
        "\n",
        "number_classes = 47\n",
        "\n",
        "y_train = np_utils.to_categorical(y_train, number_classes )\n",
        "y_test = np_utils.to_categorical(y_test,  number_classes )\n",
        "\n",
        "print (y_train.shape)\n",
        "print (y_test.shape)"
      ],
      "execution_count": 14,
      "outputs": [
        {
          "output_type": "stream",
          "text": [
            "(697932, 47)\n",
            "(116323, 47)\n"
          ],
          "name": "stdout"
        },
        {
          "output_type": "stream",
          "text": [
            "Using TensorFlow backend.\n"
          ],
          "name": "stderr"
        }
      ]
    },
    {
      "metadata": {
        "id": "BRWrGVIzKwRs",
        "colab_type": "text"
      },
      "cell_type": "markdown",
      "source": [
        "## Analyze imported data\n",
        "\n",
        "![EMNISTbyMerge](https://raw.githubusercontent.com/Giffy/EMNIST-character-recognition/master/resources/EMNISTbyMerge.png)"
      ]
    },
    {
      "metadata": {
        "id": "MQ3ixO_QUT_6",
        "colab_type": "code",
        "colab": {}
      },
      "cell_type": "code",
      "source": [
        "class_idx = ['0','1','2','3','4','5','6','7','8','9',\n",
        "             'A','B','C','D','E','F','G','H','I','J','K','L','M','N','O','P','Q','R','S','T','U','V','W','X','Y','Z',\n",
        "             'a','b','d','e','f','g','h','n','q','r','t']"
      ],
      "execution_count": 0,
      "outputs": []
    },
    {
      "metadata": {
        "id": "e0jvobuJKwSs",
        "colab_type": "code",
        "colab": {}
      },
      "cell_type": "code",
      "source": [
        "# which sample to look at\n",
        "samplenum = 560580"
      ],
      "execution_count": 0,
      "outputs": []
    },
    {
      "metadata": {
        "scrolled": true,
        "id": "9CJa7hUaKwTV",
        "colab_type": "code",
        "outputId": "8d215826-c1fb-449b-a57b-1c3385713dfa",
        "colab": {
          "base_uri": "https://localhost:8080/",
          "height": 282
        }
      },
      "cell_type": "code",
      "source": [
        "import matplotlib.pyplot as plt\n",
        "img = x_train[samplenum]\n",
        "\n",
        "# visualize image\n",
        "plt.imshow(img[:,:,0], cmap='gray')"
      ],
      "execution_count": 17,
      "outputs": [
        {
          "output_type": "execute_result",
          "data": {
            "text/plain": [
              "<matplotlib.image.AxesImage at 0x7fb7dee88630>"
            ]
          },
          "metadata": {
            "tags": []
          },
          "execution_count": 17
        },
        {
          "output_type": "display_data",
          "data": {
            "image/png": "[encoded data removed]",
            "text/plain": [
              "<matplotlib.figure.Figure at 0x7fb8316fbeb8>"
            ]
          },
          "metadata": {
            "tags": []
          }
        }
      ]
    },
    {
      "metadata": {
        "id": "hueA-3mwKwU4",
        "colab_type": "code",
        "outputId": "2a7446cf-b8d1-4f61-b1fc-5a74981c798d",
        "colab": {
          "base_uri": "https://localhost:8080/",
          "height": 34
        }
      },
      "cell_type": "code",
      "source": [
        "# show label for sample image\n",
        "index = train_labels[samplenum][0]\n",
        "class_idx[ index ]"
      ],
      "execution_count": 18,
      "outputs": [
        {
          "output_type": "execute_result",
          "data": {
            "text/plain": [
              "'P'"
            ]
          },
          "metadata": {
            "tags": []
          },
          "execution_count": 18
        }
      ]
    },
    {
      "metadata": {
        "id": "3j34ohR0Ducm",
        "colab_type": "code",
        "outputId": "c15dbdf6-4ead-4925-a727-dc43e2bbf6bd",
        "colab": {
          "base_uri": "https://localhost:8080/",
          "height": 110
        }
      },
      "cell_type": "code",
      "source": [
        "# visualize train samples\n",
        "\n",
        "fig = plt.figure(figsize=(12,6))\n",
        "for i in range(12):\n",
        "  rows = 2\n",
        "  columns = 12\n",
        "  sp = fig.add_subplot( rows, columns , i+1)                 # plot a matrix with 2 rows and 12 columns\n",
        "  sp.axis('Off')                                             # removes background grill\n",
        "  img = x_train[i]                                        \n",
        "  plt.imshow(img[:,:,0], cmap='gray', interpolation='none')  # prints image\n",
        "  index = train_labels[i][0]\n",
        "  plt.title(\"Letter: \" + str( class_idx[ index ] ))          # adds title to the letter or number"
      ],
      "execution_count": 19,
      "outputs": [
        {
          "output_type": "display_data",
          "data": {
            "image/png": "[encoded data removed]",
            "text/plain": [
              "<matplotlib.figure.Figure at 0x7fb7deee12b0>"
            ]
          },
          "metadata": {
            "tags": []
          }
        }
      ]
    },
    {
      "metadata": {
        "id": "Y6xANdOiKwVz",
        "colab_type": "text"
      },
      "cell_type": "markdown",
      "source": [
        "## Reshape test labels"
      ]
    },
    {
      "metadata": {
        "id": "ggjspOKhKwV-",
        "colab_type": "code",
        "outputId": "18deb53c-9a9a-43cd-bceb-e40cbcfe149c",
        "colab": {
          "base_uri": "https://localhost:8080/",
          "height": 34
        }
      },
      "cell_type": "code",
      "source": [
        "print ( test_labels.shape )\n",
        "reshape = str(test_labels.shape).split(',')\n",
        "reshape = int(reshape[0][1:])"
      ],
      "execution_count": 20,
      "outputs": [
        {
          "output_type": "stream",
          "text": [
            "(116323, 1)\n"
          ],
          "name": "stdout"
        }
      ]
    },
    {
      "metadata": {
        "id": "xkeeny9rKwWc",
        "colab_type": "code",
        "outputId": "c2214a9c-0749-4a83-f56f-3f9edbfb0809",
        "colab": {
          "base_uri": "https://localhost:8080/",
          "height": 34
        }
      },
      "cell_type": "code",
      "source": [
        "test_labels = test_labels.reshape( reshape )\n",
        "test_labels.shape"
      ],
      "execution_count": 21,
      "outputs": [
        {
          "output_type": "execute_result",
          "data": {
            "text/plain": [
              "(116323,)"
            ]
          },
          "metadata": {
            "tags": []
          },
          "execution_count": 21
        }
      ]
    },
    {
      "metadata": {
        "id": "BxKt62uvKwZn",
        "colab_type": "text"
      },
      "cell_type": "markdown",
      "source": [
        "## Data augmentation\n",
        "Use keras data augmentation."
      ]
    },
    {
      "metadata": {
        "id": "QRRBoXBJKwZx",
        "colab_type": "code",
        "colab": {}
      },
      "cell_type": "code",
      "source": [
        "batch_size = 512"
      ],
      "execution_count": 0,
      "outputs": []
    },
    {
      "metadata": {
        "id": "Ncv7DoECKwaU",
        "colab_type": "code",
        "colab": {}
      },
      "cell_type": "code",
      "source": [
        "from keras.preprocessing.image import ImageDataGenerator"
      ],
      "execution_count": 0,
      "outputs": []
    },
    {
      "metadata": {
        "id": "Ywjx6EWRKwau",
        "colab_type": "code",
        "colab": {}
      },
      "cell_type": "code",
      "source": [
        "gen = ImageDataGenerator(rotation_range=12, width_shift_range=0.1, shear_range=0.3,\n",
        "                        height_shift_range=0.1, zoom_range=0.1, data_format='channels_last')\n",
        "batches = gen.flow(x_train, y_train, batch_size=batch_size)\n",
        "test_batches = gen.flow(x_test, y_test, batch_size=batch_size)\n",
        "steps_per_epoch = int(np.ceil(batches.n/batch_size))\n",
        "validation_steps = int(np.ceil(test_batches.n/batch_size))"
      ],
      "execution_count": 0,
      "outputs": []
    },
    {
      "metadata": {
        "id": "-FDpnFlyKwbQ",
        "colab_type": "code",
        "outputId": "a92eda2b-721e-4721-d8db-62a1afd29277",
        "colab": {
          "base_uri": "https://localhost:8080/",
          "height": 282
        }
      },
      "cell_type": "code",
      "source": [
        "import matplotlib.pyplot as plt\n",
        "\n",
        "# load ONE image from training set to display on screen\n",
        "img = x_train[1]\n",
        "\n",
        "# visualize original image\n",
        "plt.imshow(img[:,:,0], cmap='gray')"
      ],
      "execution_count": 25,
      "outputs": [
        {
          "output_type": "execute_result",
          "data": {
            "text/plain": [
              "<matplotlib.image.AxesImage at 0x7fb7dcb37a58>"
            ]
          },
          "metadata": {
            "tags": []
          },
          "execution_count": 25
        },
        {
          "output_type": "display_data",
          "data": {
            "image/png": "[encoded data removed]",
            "text/plain": [
              "<matplotlib.figure.Figure at 0x7fb7deed8940>"
            ]
          },
          "metadata": {
            "tags": []
          }
        }
      ]
    },
    {
      "metadata": {
        "id": "ePhRmhflKwb1",
        "colab_type": "code",
        "colab": {}
      },
      "cell_type": "code",
      "source": [
        "# trick our generator into believing img has enough dimensions\n",
        "# and get some augmented images for our single test image\n",
        "img = np.expand_dims(img, axis=0)\n",
        "aug_iter = gen.flow(img)"
      ],
      "execution_count": 0,
      "outputs": []
    },
    {
      "metadata": {
        "id": "1m6XdCS_KwcN",
        "colab_type": "code",
        "outputId": "7e5bbda7-b1d6-4120-dfe5-8fce31873071",
        "colab": {
          "base_uri": "https://localhost:8080/",
          "height": 34
        }
      },
      "cell_type": "code",
      "source": [
        "aug_img = next(aug_iter)[0].astype(np.float32)\n",
        "aug_img.shape"
      ],
      "execution_count": 27,
      "outputs": [
        {
          "output_type": "execute_result",
          "data": {
            "text/plain": [
              "(28, 28, 1)"
            ]
          },
          "metadata": {
            "tags": []
          },
          "execution_count": 27
        }
      ]
    },
    {
      "metadata": {
        "id": "wsKl8FrSKwck",
        "colab_type": "code",
        "outputId": "ca1e0427-a200-4dd4-831f-0142788c69ec",
        "colab": {
          "base_uri": "https://localhost:8080/",
          "height": 122
        }
      },
      "cell_type": "code",
      "source": [
        "import matplotlib.pyplot as plt\n",
        "\n",
        "# show augmented images\n",
        "f = plt.figure(figsize=(12,6))\n",
        "for i in range(8):\n",
        "    sp = f.add_subplot(2, 26//3, i+1)\n",
        "    sp.axis('Off')\n",
        "    aug_img = next(aug_iter)[0].astype(np.float32)\n",
        "    plt.imshow(aug_img[:,:,0], cmap='gray')                 # images are stored as (img_size, image_size, channel)  to print it we should call it img [;,;,0]"
      ],
      "execution_count": 28,
      "outputs": [
        {
          "output_type": "display_data",
          "data": {
            "image/png": "[encoded data removed]",
            "text/plain": [
              "<matplotlib.figure.Figure at 0x7fb7f389b940>"
            ]
          },
          "metadata": {
            "tags": []
          }
        }
      ]
    },
    {
      "metadata": {
        "id": "d18YSeUD9mrZ",
        "colab_type": "text"
      },
      "cell_type": "markdown",
      "source": [
        "# Build the network"
      ]
    },
    {
      "metadata": {
        "id": "XxDl-hYAbdS-",
        "colab_type": "code",
        "colab": {}
      },
      "cell_type": "code",
      "source": [
        "import os                    # Load os\n",
        "import tensorflow as tf\n",
        "from tensorflow.keras.models import Sequential\n",
        "from tensorflow.keras.layers import Dense, Dropout, Activation, Flatten, Conv2D, MaxPooling2D"
      ],
      "execution_count": 0,
      "outputs": []
    },
    {
      "metadata": {
        "id": "Ujbqs7B7f3jT",
        "colab_type": "code",
        "outputId": "0aa0e7d3-c0c7-4c12-e1a7-a5c3132e55ce",
        "colab": {
          "base_uri": "https://localhost:8080/",
          "height": 34
        }
      },
      "cell_type": "code",
      "source": [
        "x_train.shape"
      ],
      "execution_count": 30,
      "outputs": [
        {
          "output_type": "execute_result",
          "data": {
            "text/plain": [
              "(697932, 28, 28, 1)"
            ]
          },
          "metadata": {
            "tags": []
          },
          "execution_count": 30
        }
      ]
    },
    {
      "metadata": {
        "id": "JF_L_R0uf6Bx",
        "colab_type": "code",
        "outputId": "16d0b8c0-9a61-4b81-bc00-39568fabb573",
        "colab": {
          "base_uri": "https://localhost:8080/",
          "height": 34
        }
      },
      "cell_type": "code",
      "source": [
        "len (y_train)"
      ],
      "execution_count": 31,
      "outputs": [
        {
          "output_type": "execute_result",
          "data": {
            "text/plain": [
              "697932"
            ]
          },
          "metadata": {
            "tags": []
          },
          "execution_count": 31
        }
      ]
    },
    {
      "metadata": {
        "id": "rQGFA9hvNDf7",
        "colab_type": "code",
        "colab": {}
      },
      "cell_type": "code",
      "source": [
        "# Architecture model \n",
        "\n",
        "#  Input Vector :  784 pixels (28x28)\n",
        "#  Layer 1      :  128 nodes\n",
        "#  Layer 2      :  128 nodes\n",
        "#  Output Layer :  47 categories"
      ],
      "execution_count": 0,
      "outputs": []
    },
    {
      "metadata": {
        "id": "GD3Cu6zbbt8H",
        "colab_type": "code",
        "colab": {}
      },
      "cell_type": "code",
      "source": [
        "ly1_neurons = 128\n",
        "ly2_neurons = 128\n",
        "categories = 47\n",
        "\n",
        "# Define model architecture\n",
        "model = Sequential()\n",
        "\n",
        "## Input: 28x28 images with 1 channel -> (28, 28, 1) tensors.\n",
        "\n",
        "## First layer\n",
        "model.add(Conv2D(ly1_neurons, (3,3), input_shape = x_train.shape[1:]))    # adds 128 neurons with 3x3 window size\n",
        "model.add(Activation(\"relu\"))                                             # Activatior layer = relu (rectified linear regresion)\n",
        "model.add(MaxPooling2D(pool_size=(2,2)))\n",
        "model.add(Dropout(0.2))\n",
        "\n",
        "## Second layer\n",
        "model.add(Conv2D(ly2_neurons, (3,3)))                                     # adds 128 neurons with 3x3 window size\n",
        "model.add(Activation(\"relu\"))                                             # Activatior layer = relu (rectified linear regresion)\n",
        "model.add(MaxPooling2D(pool_size=(2,2)))\n",
        "model.add(Dropout(0.2))\n",
        "\n",
        "## Third layer\n",
        "model.add(Flatten())\n",
        "model.add(Dense( categories ))                                            # to clasify in 62 classes\n",
        "model.add(Activation('sigmoid'))                                          # Activatior layer = sigmoid"
      ],
      "execution_count": 0,
      "outputs": []
    },
    {
      "metadata": {
        "id": "MqgjRECMPvtw",
        "colab_type": "text"
      },
      "cell_type": "markdown",
      "source": [
        "#Compile the network"
      ]
    },
    {
      "metadata": {
        "id": "L28A5LcrSgCy",
        "colab_type": "code",
        "colab": {}
      },
      "cell_type": "code",
      "source": [
        "# Compile model\n",
        "model.compile(loss='categorical_crossentropy',\n",
        "            optimizer='adam',\n",
        "            metrics=['accuracy'])"
      ],
      "execution_count": 0,
      "outputs": []
    },
    {
      "metadata": {
        "id": "0XFuLpxQXNa6",
        "colab_type": "text"
      },
      "cell_type": "markdown",
      "source": [
        "#Train the model"
      ]
    },
    {
      "metadata": {
        "id": "yukxTCFAgNoZ",
        "colab_type": "code",
        "colab": {}
      },
      "cell_type": "code",
      "source": [
        "#  Log to be reviewed with tensorboard\n",
        "import time\n",
        "from tensorflow.keras.callbacks import TensorBoard\n",
        "\n",
        "#Define log name\n",
        "log_name = 'EMNIST byClass-cnn-'+str (ly1_neurons) +'x'+ str(ly2_neurons)+'-{}'.format(int(time.time()))\n",
        "tensorboard = TensorBoard(log_dir='logs/{}'.format(log_name))\n",
        "!mkdir /content/logs"
      ],
      "execution_count": 0,
      "outputs": []
    },
    {
      "metadata": {
        "id": "mmnEI7wubtq1",
        "colab_type": "code",
        "outputId": "afa281a8-3b42-45c0-99af-08e04b9f711b",
        "colab": {
          "base_uri": "https://localhost:8080/",
          "height": 382
        }
      },
      "cell_type": "code",
      "source": [
        "batch_size = 128\n",
        "epochs = 10\n",
        "\n",
        "# Fit model on training data\n",
        "history = model.fit(x_train, y_train\n",
        "              , batch_size\n",
        "              , epochs\n",
        "              , verbose=1\n",
        "              , callbacks = [tensorboard]\n",
        "              , validation_data=(x_test, y_test)\n",
        "             )"
      ],
      "execution_count": 36,
      "outputs": [
        {
          "output_type": "stream",
          "text": [
            "Train on 697932 samples, validate on 116323 samples\n",
            "Epoch 1/10\n",
            "697932/697932 [==============================] - 174s 249us/step - loss: 0.4123 - acc: 0.8614 - val_loss: 0.3164 - val_acc: 0.8902\n",
            "Epoch 2/10\n",
            "697932/697932 [==============================] - 164s 235us/step - loss: 0.3155 - acc: 0.8879 - val_loss: 0.2982 - val_acc: 0.8957\n",
            "Epoch 3/10\n",
            "697932/697932 [==============================] - 161s 231us/step - loss: 0.2974 - acc: 0.8931 - val_loss: 0.2886 - val_acc: 0.8972\n",
            "Epoch 4/10\n",
            "697932/697932 [==============================] - 161s 231us/step - loss: 0.2872 - acc: 0.8956 - val_loss: 0.2859 - val_acc: 0.8990\n",
            "Epoch 5/10\n",
            "697932/697932 [==============================] - 163s 234us/step - loss: 0.2807 - acc: 0.8975 - val_loss: 0.2874 - val_acc: 0.8991\n",
            "Epoch 6/10\n",
            "697932/697932 [==============================] - 167s 239us/step - loss: 0.2753 - acc: 0.8988 - val_loss: 0.2801 - val_acc: 0.9002\n",
            "Epoch 7/10\n",
            "697932/697932 [==============================] - 165s 236us/step - loss: 0.2713 - acc: 0.8993 - val_loss: 0.2795 - val_acc: 0.9007\n",
            "Epoch 8/10\n",
            "697932/697932 [==============================] - 161s 230us/step - loss: 0.2687 - acc: 0.9002 - val_loss: 0.2802 - val_acc: 0.8999\n",
            "Epoch 9/10\n",
            "697932/697932 [==============================] - 161s 231us/step - loss: 0.2654 - acc: 0.9012 - val_loss: 0.2786 - val_acc: 0.9004\n",
            "Epoch 10/10\n",
            "697932/697932 [==============================] - 162s 233us/step - loss: 0.2644 - acc: 0.9014 - val_loss: 0.2783 - val_acc: 0.8998\n"
          ],
          "name": "stdout"
        }
      ]
    },
    {
      "metadata": {
        "id": "R8t9saoOISiF",
        "colab_type": "text"
      },
      "cell_type": "markdown",
      "source": [
        "## Evaluate final accuracy"
      ]
    },
    {
      "metadata": {
        "id": "SATtLUdE6kUN",
        "colab_type": "code",
        "outputId": "bb5cdb16-2f8e-43d7-8daa-06e25e42a0b2",
        "colab": {
          "base_uri": "https://localhost:8080/",
          "height": 52
        }
      },
      "cell_type": "code",
      "source": [
        "# Evaluate model on test data\n",
        "loss, accuracy = model.evaluate(x_test, y_test, verbose=0)\n",
        "print ('Test loss ', loss )\n",
        "print ('Test accuracy ', accuracy )"
      ],
      "execution_count": 37,
      "outputs": [
        {
          "output_type": "stream",
          "text": [
            "Test loss  0.27833750458483497\n",
            "Test accuracy  0.899761869965527\n"
          ],
          "name": "stdout"
        }
      ]
    },
    {
      "metadata": {
        "id": "ceIMuiUcYhv0",
        "colab_type": "text"
      },
      "cell_type": "markdown",
      "source": [
        "## Saving model"
      ]
    },
    {
      "metadata": {
        "id": "Io6gV3b4D-be",
        "colab_type": "code",
        "outputId": "0bd522ce-a7fa-4c68-8960-fa7f9e293a8c",
        "colab": {
          "base_uri": "https://localhost:8080/",
          "height": 34
        }
      },
      "cell_type": "code",
      "source": [
        "save_dir = '/content/'\n",
        "model_name = 'model - '+str (ly1_neurons) +'x'+ str(ly2_neurons)+' bs:' + str(batch_size) +' ep:'+ str(epochs) +' acc:'+ str(round(accuracy, 3)) +' loss:' + str(round(loss, 3)) +' .h5'\n",
        "\n",
        "model_path = os.path.join(save_dir, model_name)\n",
        "model.save( model_path )\n",
        "print ('Saved trained model at ' + model_path )"
      ],
      "execution_count": 38,
      "outputs": [
        {
          "output_type": "stream",
          "text": [
            "Saved trained model at /content/model - 128x128 bs:128 ep:10 acc:0.9 loss:0.278 .h5\n"
          ],
          "name": "stdout"
        }
      ]
    },
    {
      "metadata": {
        "id": "tVHxIwfccMxW",
        "colab_type": "text"
      },
      "cell_type": "markdown",
      "source": [
        "##Predict image"
      ]
    },
    {
      "metadata": {
        "colab_type": "code",
        "outputId": "f52efd33-5c31-432e-e355-8c330e4b169b",
        "id": "PvuHXEHRcwzO",
        "colab": {
          "base_uri": "https://localhost:8080/",
          "height": 297
        }
      },
      "cell_type": "code",
      "source": [
        "import random\n",
        "image_index = random.randint(1,len(x_test))\n",
        "\n",
        "image = x_test[image_index] # show label for sample image\n",
        "plt.imshow(image[:,:,0], cmap='gray', interpolation='none')\n",
        "\n",
        "image = np.expand_dims(image, axis=0)\n",
        "scores = model.predict(image)\n",
        "\n",
        "index = np.argmax(scores)\n",
        "plt.title(\"Letter: \" + str( class_idx[ index ] ))"
      ],
      "execution_count": 39,
      "outputs": [
        {
          "output_type": "execute_result",
          "data": {
            "text/plain": [
              "Text(0.5,1,'Letter: 5')"
            ]
          },
          "metadata": {
            "tags": []
          },
          "execution_count": 39
        },
        {
          "output_type": "display_data",
          "data": {
            "image/png": "[encoded data removed]",
            "text/plain": [
              "<matplotlib.figure.Figure at 0x7fb7d9b22cc0>"
            ]
          },
          "metadata": {
            "tags": []
          }
        }
      ]
    },
    {
      "metadata": {
        "id": "Ev6wx9AZg6S3",
        "colab_type": "text"
      },
      "cell_type": "markdown",
      "source": [
        "# Plot training history"
      ]
    },
    {
      "metadata": {
        "id": "QOgyrrBThsry",
        "colab_type": "code",
        "outputId": "48bbc898-39af-4626-ccb4-9ac5b0a7f102",
        "colab": {
          "base_uri": "https://localhost:8080/",
          "height": 297
        }
      },
      "cell_type": "code",
      "source": [
        "# plotting the metrics\n",
        "fig = plt.figure()\n",
        "plt.subplot(2,1,1)\n",
        "plt.plot(history.history['acc'])\n",
        "plt.plot(history.history['val_acc'])\n",
        "plt.title('model accuracy')\n",
        "plt.ylabel('accuracy')\n",
        "plt.xlabel('epoch')\n",
        "plt.legend(['train', 'test'], loc='lower right')\n",
        "\n",
        "plt.subplot(2,1,2)\n",
        "plt.plot(history.history['loss'])\n",
        "plt.plot(history.history['val_loss'])\n",
        "plt.title('model loss')\n",
        "plt.ylabel('loss')\n",
        "plt.xlabel('epoch')\n",
        "plt.legend(['train', 'test'], loc='upper right')\n",
        "\n",
        "plt.tight_layout()"
      ],
      "execution_count": 40,
      "outputs": [
        {
          "output_type": "display_data",
          "data": {
            "image/png": "[encoded data removed]",
            "text/plain": [
              "<matplotlib.figure.Figure at 0x7fb7da4441d0>"
            ]
          },
          "metadata": {
            "tags": []
          }
        }
      ]
    },
    {
      "metadata": {
        "id": "FDBsjAUtnwFQ",
        "colab_type": "text"
      },
      "cell_type": "markdown",
      "source": [
        "#Evaluate model performance"
      ]
    },
    {
      "metadata": {
        "id": "KjKAN0KSnvo1",
        "colab_type": "code",
        "colab": {}
      },
      "cell_type": "code",
      "source": [
        "# load the model and create predictions on the test set\n",
        "# model = load_model( model_name )\n",
        "predicted_classes = model.predict_classes(x_test)"
      ],
      "execution_count": 0,
      "outputs": []
    },
    {
      "metadata": {
        "id": "yuDJiRpFv3wX",
        "colab_type": "code",
        "outputId": "036035ec-3c23-4845-a31c-d46df35124a1",
        "colab": {
          "base_uri": "https://localhost:8080/",
          "height": 69
        }
      },
      "cell_type": "code",
      "source": [
        "# see which we predicted correctly and which not\n",
        "correct_indices = np.nonzero(predicted_classes == test_labels)[0]\n",
        "incorrect_indices = np.nonzero(predicted_classes != test_labels)[0]\n",
        "print()\n",
        "print(len(correct_indices),\" classified correctly\")\n",
        "print(len(incorrect_indices),\" classified incorrectly\")"
      ],
      "execution_count": 42,
      "outputs": [
        {
          "output_type": "stream",
          "text": [
            "\n",
            "104663  classified correctly\n",
            "11660  classified incorrectly\n"
          ],
          "name": "stdout"
        }
      ]
    },
    {
      "metadata": {
        "id": "FgA75pjXwlY7",
        "colab_type": "text"
      },
      "cell_type": "markdown",
      "source": [
        "## Visualize 12 correct prediction"
      ]
    },
    {
      "metadata": {
        "id": "Wtfh3Ediv_70",
        "colab_type": "code",
        "outputId": "9142c144-0783-445f-f231-a813c7d93529",
        "colab": {
          "base_uri": "https://localhost:8080/",
          "height": 124
        }
      },
      "cell_type": "code",
      "source": [
        "fig = plt.figure(figsize=(12,6))\n",
        "for i, correct in enumerate(correct_indices[:12]):\n",
        "  rows = 2\n",
        "  columns = 12\n",
        "  sp = fig.add_subplot( rows, columns , i+1)                 # plot a matrix with 2 rows and 12 columns\n",
        "  sp.axis('Off')                                             # removes background grill\n",
        "  img = x_train[i]                                        \n",
        "  plt.imshow(x_test[correct].reshape(28,28), cmap='gray', interpolation='none')  # prints image\n",
        "  plt.title(\n",
        "      'Predict: ' + str(class_idx[predicted_classes[correct]]) +\n",
        "      '\\nTruth: ' + str(class_idx[test_labels[correct]])\n",
        "  )"
      ],
      "execution_count": 43,
      "outputs": [
        {
          "output_type": "display_data",
          "data": {
            "image/png": "[encoded data removed]",
            "text/plain": [
              "<matplotlib.figure.Figure at 0x7fb7da43b4a8>"
            ]
          },
          "metadata": {
            "tags": []
          }
        }
      ]
    },
    {
      "metadata": {
        "id": "A29-89RcwsHp",
        "colab_type": "text"
      },
      "cell_type": "markdown",
      "source": [
        "## Visualize 12 incorrect prediction"
      ]
    },
    {
      "metadata": {
        "id": "IXTkk8sTwyw_",
        "colab_type": "code",
        "outputId": "cb2b85c0-f55e-4616-e6ef-8f29572c39b1",
        "colab": {
          "base_uri": "https://localhost:8080/",
          "height": 124
        }
      },
      "cell_type": "code",
      "source": [
        "fig = plt.figure(figsize=(12,6))\n",
        "for i, correct in enumerate(incorrect_indices[:12]):\n",
        "  rows = 2\n",
        "  columns = 12\n",
        "  sp = fig.add_subplot( rows, columns , i+1)                 # plot a matrix with 2 rows and 12 columns\n",
        "  sp.axis('Off')                                             # removes background grill\n",
        "  img = x_train[i]                                        \n",
        "  plt.imshow(x_test[correct].reshape(28,28), cmap='gray', interpolation='none')  # prints image\n",
        "  plt.title(\n",
        "      'Predict: ' + str(class_idx[predicted_classes[correct]]) +\n",
        "      '\\nTruth: ' + str(class_idx[test_labels[correct]])\n",
        "  )"
      ],
      "execution_count": 44,
      "outputs": [
        {
          "output_type": "display_data",
          "data": {
            "image/png": "[encoded data removed]",
            "text/plain": [
              "<matplotlib.figure.Figure at 0x7fb7d8facdd8>"
            ]
          },
          "metadata": {
            "tags": []
          }
        }
      ]
    }
  ]
}